{
  "nbformat": 4,
  "nbformat_minor": 0,
  "metadata": {
    "colab": {
      "name": "Adidas.ipynb",
      "provenance": [],
      "collapsed_sections": []
    },
    "kernelspec": {
      "name": "python3",
      "display_name": "Python 3"
    },
    "language_info": {
      "name": "python"
    }
  },
  "cells": [
    {
      "cell_type": "code",
      "metadata": {
        "id": "R9uXY-P2Jljq"
      },
      "source": [
        "!pip install --upgrade pandas\n",
        "import pandas as pd\n",
        "import numpy as np\n",
        "pd.__version__\n"
      ],
      "execution_count": null,
      "outputs": []
    },
    {
      "cell_type": "code",
      "metadata": {
        "id": "ec4MiqnwJo4c"
      },
      "source": [
        "from google.colab import drive\n",
        "drive.mount('/content/drive/')"
      ],
      "execution_count": null,
      "outputs": []
    },
    {
      "cell_type": "code",
      "metadata": {
        "id": "Fk-Q3NQ9KKK0"
      },
      "source": [
        "%cd '/content/drive/My Drive/Practicas/DB'\n",
        "path='/content/drive/My Drive/Practicas/DB/{}'"
      ],
      "execution_count": null,
      "outputs": []
    },
    {
      "cell_type": "code",
      "metadata": {
        "id": "4BD-I93XKUa8"
      },
      "source": [
        "!ls"
      ],
      "execution_count": null,
      "outputs": []
    },
    {
      "cell_type": "code",
      "metadata": {
        "id": "iAuyfOUQKYwc"
      },
      "source": [
        "pd.options.display.float_format='{:,.2f}'.format"
      ],
      "execution_count": null,
      "outputs": []
    },
    {
      "cell_type": "code",
      "metadata": {
        "id": "A8swf_rlKd8V"
      },
      "source": [
        "df=pd.read_csv(path.format('Adidas_final.csv'),sep=';')\n",
        "\n",
        "df.head(5)"
      ],
      "execution_count": null,
      "outputs": []
    },
    {
      "cell_type": "code",
      "metadata": {
        "id": "REFw_b6WQNGV"
      },
      "source": [
        "def eliminar_cantidad_valores_unicos (df,x):\n",
        "    lista=[]\n",
        "    for i in df.columns:\n",
        "      if len(list(df[i].unique())) == x:       \n",
        "        lista.append(i)   \n",
        "    return (df.drop(lista,axis=1))"
      ],
      "execution_count": null,
      "outputs": []
    },
    {
      "cell_type": "code",
      "metadata": {
        "id": "mkX5OBrIUyed"
      },
      "source": [
        "df_limpio=eliminar_cantidad_valores_unicos(df,1)\n",
        "df_limpio"
      ],
      "execution_count": null,
      "outputs": []
    },
    {
      "cell_type": "code",
      "metadata": {
        "id": "qlYm6xtvUyjG"
      },
      "source": [
        "df_limpio=df_limpio.convert_dtypes()"
      ],
      "execution_count": null,
      "outputs": []
    },
    {
      "cell_type": "code",
      "metadata": {
        "id": "0wvjMNewYhJG"
      },
      "source": [
        "df_limpio['Last Visited']=pd.to_datetime(df_limpio['Last Visited'],errors='coerce',format = '%Y/%m/%d %H:%M:%S')"
      ],
      "execution_count": null,
      "outputs": []
    },
    {
      "cell_type": "code",
      "metadata": {
        "id": "e5kA7GNiZjx5"
      },
      "source": [
        "df_limpio.dtypes"
      ],
      "execution_count": null,
      "outputs": []
    },
    {
      "cell_type": "code",
      "metadata": {
        "id": "Yv6hqmULkzbr"
      },
      "source": [
        "df_limpio"
      ],
      "execution_count": null,
      "outputs": []
    },
    {
      "cell_type": "code",
      "metadata": {
        "id": "Rx1SoZnpoyve"
      },
      "source": [
        "class Transformacion_DataFrame:\n",
        "  '''Importa el csv y lo transforma'''\n",
        "  def __init__(self):   \n",
        "       self.__df=pd.read_csv('Adidas_final.csv',sep=';')\n",
        "       self.__eliminar_cantidad_valores_unicos()\n",
        "       self.__cambiar_Types()\n",
        "       self.__eliminar_URLs()\n",
        "       self.__arreglar_nombres_columnas()\n",
        "\n",
        "  '''Elimina filas sin valores relevantes'''\n",
        "  def __eliminar_cantidad_valores_unicos (self,x=1):    \n",
        "    try:\n",
        "      lista=[]\n",
        "      for i in self.__df.columns:\n",
        "        if len(list(self.__df[i].unique())) == x:       \n",
        "          lista.append(i)   \n",
        "      self.__df=self.__df.drop(lista,axis=1)\n",
        "    except:\n",
        "      print('Error al buscar y eliminar filas sin contenido relevante')\n",
        "\n",
        "  '''Establece trypes de las columnas al formato correcto'''\n",
        "  def __cambiar_Types(self):\n",
        "     try: \n",
        "      self.__df=self.__df.convert_dtypes()\n",
        "      self.__df['Last Visited']=pd.to_datetime(self.__df['Last Visited'],errors='coerce',format = '%Y/%m/%d %H:%M:%S')\n",
        "     except:\n",
        "       print('Error al convertir los tipos')\n",
        "\n",
        "  def __eliminar_URLs(self):\n",
        "    '''Elimina URLs y direcciones'''\n",
        "    try:\n",
        "      self.__df=self.__df.drop(['URL','Images'],axis=1)\n",
        "    except:\n",
        "      print('Error al borrar URLs')\n",
        "\n",
        "  '''Reemplaza espacios por giones'''\n",
        "  def __arreglar_nombres_columnas(self):\n",
        "    try:\n",
        "      lista_columnas=[]\n",
        "      lista_columnas=self.__df.columns\n",
        "      for x in lista_columnas:\n",
        "        if ' ' in x :        \n",
        "          nuevo_nombre=x.replace(' ','_')   \n",
        "          self.__df.rename(columns={x:nuevo_nombre},inplace=True)\n",
        "\n",
        "    except:\n",
        "      print('Error al agregar nombres')\n",
        "\n",
        "\n",
        "\n",
        "\n",
        "  '''Muestra la tabla'''\n",
        "  def mostrar_tabla (self):\n",
        "    \n",
        "     try:\n",
        "      return(self.__df)\n",
        "     except:\n",
        "      print('Error al mostrar el producto con mayor descuento')\n",
        "\n",
        "\n",
        "\n",
        "  '''Muestra una tabla con los productos mas baratos sin contar el descuento'''\n",
        "  def productos_mas_baratos_sin_descuento(self):     \n",
        "     try:\n",
        "      return(self.__df.groupby([\"Product Name\",\"Brand\"])[[\"Listing Price\"]].min().sort_values('Listing Price', ascending =  False).tail(10))\n",
        "     except:\n",
        "      print('Error al mostrar el producto mas barato sin descuento')\n",
        "\n",
        "\n",
        "\n",
        "  '''Muestra una tabla con los productos mas caros sin contar el descuento'''\n",
        "  def productos_mas_caros_sin_descuento(self):\n",
        "     try:\n",
        "      return(self.__df.groupby([\"Product Name\",\"Brand\"])[[\"Listing Price\"]].max().sort_values('Listing Price', ascending =  False).head(10))\n",
        "     except:\n",
        "      print('Error al mostrar el producto mas caro sin descuento')\n",
        "\n",
        "  '''Muestra una tabla con los productos con el mayor descuento'''\n",
        "  def productos_mayor_descuento(self):\n",
        "    try:\n",
        "      return(self.__df.groupby(\"Product Name\")[[\"Discount\"]].median().sort_values('Discount', ascending =  False))\n",
        "    except:\n",
        "      print('Error al mostrar el data frame')\n",
        "\n",
        "    \n",
        "  '''Muestra una tabla con las ventas de cada marca'''\n",
        "  def venta_marcas(self):\n",
        "    try:\n",
        "      return(self.__df.groupby('Brand')[['Last Visited']].count())\n",
        "    except:\n",
        "      print('Error al mostrar el data frame')\n",
        "\n",
        "\n",
        "\n",
        "      \n",
        "\n",
        "\n",
        "\n"
      ],
      "execution_count": null,
      "outputs": []
    },
    {
      "cell_type": "code",
      "metadata": {
        "colab": {
          "base_uri": "https://localhost:8080/",
          "height": 419
        },
        "id": "GMEM73g4mieJ",
        "outputId": "c32a82d6-4a80-414b-d9e5-afa5d30ed0ef"
      },
      "source": [
        "# __CREATE DATABASE\n",
        "\n",
        "\n",
        "class Database:\n",
        "    '''Create conection and database.db3\n",
        "    '''\n",
        "    def __init__(self):\n",
        "        self.__connection = sqlite3.connect(\"database.db3\")\n",
        "\n",
        "    def create_table(self):\n",
        "        '''Create SQL tables in database adidas.db\n",
        "        '''\n",
        "        create_adidas_general_table = \"\"\" CREATE TABLE IF NOT EXISTS general(Product ID INTEGER PRIMARY KEY,\n",
        "                                  Product_Name VARCHAR(100) NOT NULL,\n",
        "                                  Listing_Price FLOAT NOT NULL,\n",
        "                                  Sale_Price FLOAT NOT NULL,\n",
        "                                  Discount INT NOT NULL,\n",
        "                                  Brand    VARCHAR(100) NOT NULL,\n",
        "                                  Description TEXT NOT NULL,\n",
        "                                  Last_Visited TIMESTAMP NOT NULL\n",
        "                                  )\n",
        "                                  \"\"\"\n",
        "        '''Create cursor\n",
        "        '''\n",
        "        self.__cursor = self.__connection.cursor()\n",
        "\n",
        "        self.__cursor.execute(create_adidas_general_table)\n",
        "\n",
        "    def save_data_to_database(self, df):\n",
        "        '''Save data into table general\n",
        "        '''\n",
        "        df.to_sql('general', self.__connection,\n",
        "                  if_exists=\"append\", index=False)\n",
        "\n",
        "\n",
        "if __name__ == '__main__':\n",
        "    df = Transformacion_DataFrame()\n",
        "    # df = Transformacion_DataFrame().mostrar()\n",
        "    df_general = df.mostrar()\n",
        "    print(df.show_highest_discount())\n",
        "    print(df.show_most_expensive())\n",
        "    print(df.show_cheapest())\n",
        "    print(df.show_more_visited())\n",
        "\n",
        "    # create database\n",
        "    db = Database()\n",
        "    # db.create_table()\n",
        "    db.save_data_to_database(df_general)"
      ],
      "execution_count": null,
      "outputs": [
        {
          "output_type": "execute_result",
          "data": {
            "text/html": [
              "<div>\n",
              "<style scoped>\n",
              "    .dataframe tbody tr th:only-of-type {\n",
              "        vertical-align: middle;\n",
              "    }\n",
              "\n",
              "    .dataframe tbody tr th {\n",
              "        vertical-align: top;\n",
              "    }\n",
              "\n",
              "    .dataframe thead th {\n",
              "        text-align: right;\n",
              "    }\n",
              "</style>\n",
              "<table border=\"1\" class=\"dataframe\">\n",
              "  <thead>\n",
              "    <tr style=\"text-align: right;\">\n",
              "      <th></th>\n",
              "      <th>Product_Name</th>\n",
              "      <th>Product_ID</th>\n",
              "      <th>Listing_Price</th>\n",
              "      <th>Sale_Price</th>\n",
              "      <th>Discount</th>\n",
              "      <th>Brand</th>\n",
              "      <th>Description</th>\n",
              "      <th>Last_Visited</th>\n",
              "    </tr>\n",
              "  </thead>\n",
              "  <tbody>\n",
              "    <tr>\n",
              "      <th>0</th>\n",
              "      <td>Women's adidas Originals NMD_Racer Primeknit S...</td>\n",
              "      <td>AH2430</td>\n",
              "      <td>14999</td>\n",
              "      <td>7499</td>\n",
              "      <td>50</td>\n",
              "      <td>ORIGINALS</td>\n",
              "      <td>Channeling the streamlined look of an '80s rac...</td>\n",
              "      <td>2020-04-13 15:06:14</td>\n",
              "    </tr>\n",
              "    <tr>\n",
              "      <th>1</th>\n",
              "      <td>Women's adidas Originals Sleek Shoes</td>\n",
              "      <td>G27341</td>\n",
              "      <td>7599</td>\n",
              "      <td>3799</td>\n",
              "      <td>50</td>\n",
              "      <td>ORIGINALS</td>\n",
              "      <td>A modern take on adidas sport heritage, tailor...</td>\n",
              "      <td>2020-04-13 15:06:15</td>\n",
              "    </tr>\n",
              "    <tr>\n",
              "      <th>2</th>\n",
              "      <td>Women's adidas Swim Puka Slippers</td>\n",
              "      <td>CM0081</td>\n",
              "      <td>999</td>\n",
              "      <td>599</td>\n",
              "      <td>40</td>\n",
              "      <td>CORE / NEO</td>\n",
              "      <td>These adidas Puka slippers for women's come wi...</td>\n",
              "      <td>2020-04-13 15:06:15</td>\n",
              "    </tr>\n",
              "    <tr>\n",
              "      <th>3</th>\n",
              "      <td>Women's adidas Sport Inspired Questar Ride Shoes</td>\n",
              "      <td>B44832</td>\n",
              "      <td>6999</td>\n",
              "      <td>3499</td>\n",
              "      <td>50</td>\n",
              "      <td>CORE / NEO</td>\n",
              "      <td>Inspired by modern tech runners, these women's...</td>\n",
              "      <td>2020-04-13 15:06:15</td>\n",
              "    </tr>\n",
              "    <tr>\n",
              "      <th>4</th>\n",
              "      <td>Women's adidas Originals Taekwondo Shoes</td>\n",
              "      <td>D98205</td>\n",
              "      <td>7999</td>\n",
              "      <td>3999</td>\n",
              "      <td>50</td>\n",
              "      <td>ORIGINALS</td>\n",
              "      <td>This design is inspired by vintage Taekwondo s...</td>\n",
              "      <td>2020-04-13 15:06:15</td>\n",
              "    </tr>\n",
              "    <tr>\n",
              "      <th>...</th>\n",
              "      <td>...</td>\n",
              "      <td>...</td>\n",
              "      <td>...</td>\n",
              "      <td>...</td>\n",
              "      <td>...</td>\n",
              "      <td>...</td>\n",
              "      <td>...</td>\n",
              "      <td>...</td>\n",
              "    </tr>\n",
              "    <tr>\n",
              "      <th>2620</th>\n",
              "      <td>Men's adidas Adipower Vector 20 Shoes</td>\n",
              "      <td>EF3503</td>\n",
              "      <td>10999</td>\n",
              "      <td>10999</td>\n",
              "      <td>0</td>\n",
              "      <td>SPORT PERFORMANCE</td>\n",
              "      <td>It's just you and the batsman. As you steam to...</td>\n",
              "      <td>2020-04-13 15:07:59</td>\n",
              "    </tr>\n",
              "    <tr>\n",
              "      <th>2621</th>\n",
              "      <td>Men's adidas Cricket Howzat Shoes</td>\n",
              "      <td>EF3505</td>\n",
              "      <td>6999</td>\n",
              "      <td>6999</td>\n",
              "      <td>0</td>\n",
              "      <td>SPORT PERFORMANCE</td>\n",
              "      <td>Batting, fielding or bowling, these Howzat Spi...</td>\n",
              "      <td>2020-04-13 15:07:59</td>\n",
              "    </tr>\n",
              "    <tr>\n",
              "      <th>2622</th>\n",
              "      <td>Men's Cricket Cri Hase Shoes</td>\n",
              "      <td>CM6008</td>\n",
              "      <td>3999</td>\n",
              "      <td>3999</td>\n",
              "      <td>0</td>\n",
              "      <td>SPORT PERFORMANCE</td>\n",
              "      <td>Thiese shoes are a great choice for the amatue...</td>\n",
              "      <td>2020-04-13 15:07:59</td>\n",
              "    </tr>\n",
              "    <tr>\n",
              "      <th>2623</th>\n",
              "      <td>Unisex adidas Outdoor Terrex Daroga Water Shoes</td>\n",
              "      <td>BC0980</td>\n",
              "      <td>7999</td>\n",
              "      <td>7999</td>\n",
              "      <td>0</td>\n",
              "      <td>SPORT PERFORMANCE</td>\n",
              "      <td>These shoes fit easily into a travel bag so yo...</td>\n",
              "      <td>2020-04-13 15:07:59</td>\n",
              "    </tr>\n",
              "    <tr>\n",
              "      <th>2624</th>\n",
              "      <td>Men's adidas Basketball Harden Vol. 4 Shoes</td>\n",
              "      <td>EF9924</td>\n",
              "      <td>14999</td>\n",
              "      <td>14999</td>\n",
              "      <td>0</td>\n",
              "      <td>SPORT PERFORMANCE</td>\n",
              "      <td>These basketball shoes are designed specifical...</td>\n",
              "      <td>2020-04-13 15:07:59</td>\n",
              "    </tr>\n",
              "  </tbody>\n",
              "</table>\n",
              "<p>2625 rows × 8 columns</p>\n",
              "</div>"
            ],
            "text/plain": [
              "                                           Product_Name  ...        Last_Visited\n",
              "0     Women's adidas Originals NMD_Racer Primeknit S...  ... 2020-04-13 15:06:14\n",
              "1                  Women's adidas Originals Sleek Shoes  ... 2020-04-13 15:06:15\n",
              "2                    Women's adidas Swim Puka Slippers   ... 2020-04-13 15:06:15\n",
              "3      Women's adidas Sport Inspired Questar Ride Shoes  ... 2020-04-13 15:06:15\n",
              "4              Women's adidas Originals Taekwondo Shoes  ... 2020-04-13 15:06:15\n",
              "...                                                 ...  ...                 ...\n",
              "2620              Men's adidas Adipower Vector 20 Shoes  ... 2020-04-13 15:07:59\n",
              "2621                  Men's adidas Cricket Howzat Shoes  ... 2020-04-13 15:07:59\n",
              "2622                       Men's Cricket Cri Hase Shoes  ... 2020-04-13 15:07:59\n",
              "2623    Unisex adidas Outdoor Terrex Daroga Water Shoes  ... 2020-04-13 15:07:59\n",
              "2624        Men's adidas Basketball Harden Vol. 4 Shoes  ... 2020-04-13 15:07:59\n",
              "\n",
              "[2625 rows x 8 columns]"
            ]
          },
          "metadata": {},
          "execution_count": 161
        }
      ]
    },
    {
      "cell_type": "code",
      "metadata": {
        "id": "PQCdKUZi1stU"
      },
      "source": [
        ""
      ],
      "execution_count": null,
      "outputs": []
    },
    {
      "cell_type": "code",
      "metadata": {
        "id": "xSXjUDeP7YEr"
      },
      "source": [
        ""
      ],
      "execution_count": null,
      "outputs": []
    }
  ]
}